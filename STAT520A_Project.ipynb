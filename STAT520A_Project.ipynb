{
 "cells": [
  {
   "cell_type": "markdown",
   "metadata": {},
   "source": [
    "### Block Metropolis Implementation"
   ]
  },
  {
   "cell_type": "code",
   "execution_count": null,
   "metadata": {},
   "outputs": [],
   "source": [
    "import numpy as np\n",
    "import scipy as sp\n",
    "import pandas as pd\n",
    "import graphviz\n",
    "import lingam\n",
    "from lingam.utils import make_dot\n",
    "import scipy.stats as st \n",
    "import warnings\n",
    "warnings.filterwarnings('ignore')\n",
    "\n",
    "np.set_printoptions(suppress=True)\n",
    "\n",
    "def mh_step(last, logjoint, proposer, logproposal):\n",
    "    ## chain is a list of current markov chain\n",
    "    ## logjoint evaluates the log of the joint probability, log p(x)\n",
    "    ## proposal generates a proposal x^* given the last x. \n",
    "\n",
    "    next = proposer(last) \n",
    "\n",
    "    logratio = logjoint(next) - logjoint(last) + logproposal(last, next) - logproposal(next, last)\n",
    "\n",
    "    logratio = np.maximum(np.minimum(logratio, 0), -999999)\n",
    "\n",
    "    a = np.random.rand()\n",
    "\n",
    "    if logratio > np.log(a):\n",
    "        return next, logratio\n",
    "    else:\n",
    "        return last, logratio\n",
    "\n",
    "def block_mh_step(chain, logjoint_list, proposer_list, logproposal_list, exact_list):\n",
    "    ## chain is a list of lists of markov chains representing each block\n",
    "    ## logjoint, proposer, logproposal all lists of # of blocks\n",
    "    ## If block is 'exact', accept the proposal with probability 1\n",
    "    curr = chain[-1].copy()\n",
    "    logratios = []\n",
    "    for i in range(len(curr)):\n",
    "        last = curr[i]\n",
    "        cond = curr[:i] + curr[(i+1):]\n",
    "        if(exact_list[i]):\n",
    "            curr[i], logratio = proposer_list[i](last, cond), 0\n",
    "        else:\n",
    "            logjoint, proposer, logproposal = (lambda x: logjoint_list[i](x, cond)), (lambda x: proposer_list[i](x, cond)), (lambda x, y: logproposal_list[i](x, y, cond))\n",
    "            curr[i], logratio = mh_step(last, logjoint, proposer, logproposal)\n",
    "        logratios.append(logratio)        \n",
    "    chain.append(curr)\n",
    "    return logratios\n"
   ]
  },
  {
   "cell_type": "markdown",
   "metadata": {},
   "source": [
    "### Generating Synthetic Data"
   ]
  },
  {
   "cell_type": "code",
   "execution_count": null,
   "metadata": {},
   "outputs": [],
   "source": [
    "### synthetic data generation\n",
    "\n",
    "np.random.seed(7)\n",
    "\n",
    "N = 5 ## dimension\n",
    "d = np.sum(np.arange(N)) ## possible nonzero entries\n",
    "p = np.repeat(0.2, d) # sparsity\n",
    "n = 50 ## samples\n",
    "\n",
    "## fixed P, L\n",
    "\n",
    "P = [0, 4, 3, 2, 1]\n",
    "L = [2, 0, 3, 0, 1, 2, 0, 0, -1, -3]\n",
    "\n",
    "def range_2_mat(entries):\n",
    "    P = np.identity(N)\n",
    "    P = P[entries]\n",
    "    return P\n",
    "\n",
    "def vec_2_LT(entries):\n",
    "    L = np.zeros((N, N))\n",
    "    L[np.tril_indices(N, -1)] = entries\n",
    "    return L\n",
    "\n",
    "def LT_2_vec(L):\n",
    "    return L[np.tril_indices(N, -1)]\n",
    "\n",
    "def A_from_PL(P, L):\n",
    "    P_mat = range_2_mat(P)\n",
    "    L_mat = vec_2_LT(L)\n",
    "    return P_mat @ L_mat @ P_mat.T\n",
    "\n",
    "\n",
    "def gen_data_fixedPL(P, L, n):\n",
    "    A = A_from_PL(P, L)\n",
    "    mat = np.identity(N) - A\n",
    "    eps = np.random.randn(N,n)\n",
    "    X_t = np.linalg.inv(mat) @ eps\n",
    "\n",
    "    return np.transpose(X_t), P, L\n",
    "\n",
    "X, P, L = gen_data_fixedPL(P, L, n)\n",
    "\n",
    "### loglikelihood for data\n",
    "\n",
    "def loglike(X, P, L):\n",
    "    P_mat = range_2_mat(P)\n",
    "    L_mat = vec_2_LT(L)\n",
    "    prec = np.identity(N) + P_mat @ (L_mat.T @ L_mat - (L_mat + L_mat.T)) @ P_mat.T\n",
    "    cov = np.linalg.inv(prec)\n",
    "    loglike = st.multivariate_normal.logpdf(X, cov = cov)\n",
    "    return loglike\n"
   ]
  },
  {
   "cell_type": "markdown",
   "metadata": {},
   "source": [
    "### Defining Targets and Proposals"
   ]
  },
  {
   "cell_type": "code",
   "execution_count": null,
   "metadata": {},
   "outputs": [],
   "source": [
    "\n",
    "### global prior parameters\n",
    "\n",
    "p_prior = np.repeat(0.2, d)\n",
    "sigma_prior = 1\n",
    "spike_ratio = 10\n",
    "\n",
    "\n",
    "## uncomment for identifiable model\n",
    "\n",
    "#for i in (i+sum(range(i+1)) for i in (range (N-1))):\n",
    "#    p_prior[i] = 1\n",
    "\n",
    "\n",
    "### helpers for locally balanced proposer\n",
    "\n",
    "def list_of_swaps(N):\n",
    "    swaps = []\n",
    "    for i in range(N):\n",
    "        for j in range(N):\n",
    "            if i < j:\n",
    "                swaps.append((i,j))\n",
    "    return swaps\n",
    "\n",
    "def swap_permutation(P, swap):\n",
    "    P_swapped = P.copy()\n",
    "    P_swapped[swap[0]], P_swapped[swap[1]] = P_swapped[swap[1]], P_swapped[swap[0]]\n",
    "\n",
    "    return P_swapped\n",
    "\n",
    "def LB_weights(P_last, pi, swaps):\n",
    "    dim = int(N*(N-1)/2)\n",
    "    logprobs = np.zeros(dim)\n",
    "    for i, swap in enumerate(swaps):\n",
    "        P = swap_permutation(P_last, swap)\n",
    "        logprobs[i] = pi(P) \n",
    "    sumlogprob = sp.special.logsumexp(logprobs)\n",
    "    logprobs += -sumlogprob\n",
    "\n",
    "    return logprobs, sumlogprob\n",
    "\n",
    "def proposer_perm(last, L, swaps):\n",
    "    pi = lambda x: loglike(X, x, L).mean()\n",
    "    weights = LB_weights(last, pi, swaps)\n",
    "    sampling_weights = np.exp(weights[0])\n",
    "    sampleid = np.random.choice(len(swaps), p = sampling_weights)\n",
    "    return swap_permutation(last, swaps[sampleid]), weights[1]\n",
    "\n",
    "swaps = list_of_swaps(N)\n",
    "\n",
    "### building blocks for all models.\n",
    "### parametrization is (I, P, L). \n",
    "### each function takes in (last = I, cond = [other args]). \n",
    "\n",
    "### I: indicator variables\n",
    "\n",
    "logjoint_I = None\n",
    "\n",
    "def proposer_I(last, cond):\n",
    "    L = cond[1].copy()\n",
    "    next = np.zeros_like(last)\n",
    "    for id, l in enumerate(L):\n",
    "        p = p_prior[id]*(st.norm.pdf(l, loc = 0, scale = sigma_prior)/(st.norm.pdf(l, loc = 0, scale = sigma_prior) + st.norm.pdf(l, loc = 0, scale = sigma_prior/spike_ratio)))\n",
    "        next[id] = np.random.binomial(1, p)\n",
    "    return next\n",
    "\n",
    "logproposal_I = None \n",
    "\n",
    "### P: permutation locally balanced\n",
    "\n",
    "def logjoint_P(x, cond):\n",
    "    L = cond[1].copy()\n",
    "    return loglike(X, x, L).mean()\n",
    "\n",
    "def proposer_P(last, cond):\n",
    "    L = cond[1].copy()\n",
    "    return proposer_perm(last, L, swaps)[0]\n",
    "\n",
    "def logproposal_P(next, last, cond):\n",
    "    L = cond[1].copy()\n",
    "    return ((1/2)*(logjoint_P(next, cond) - logjoint_P(last, cond)) - proposer_perm(last, L, swaps)[1])\n",
    "\n",
    "### L: weights\n",
    "\n",
    "def logjoint_L(x, cond):\n",
    "    I = cond[0].copy()\n",
    "    P = cond[1].copy()\n",
    "    loglikes = loglike(X, P, x).mean()\n",
    "    for id, i in enumerate(I):\n",
    "        if i == 0:\n",
    "            loglikes += np.maximum(np.log(st.norm.pdf(x[id], loc = 0, scale = sigma_prior/spike_ratio)), -9999999)/n\n",
    "        else:\n",
    "            loglikes += np.maximum(np.log(st.norm.pdf(x[id], loc = 0, scale = sigma_prior)), -9999999)/n\n",
    "    return loglikes\n",
    "\n",
    "def proposer_L(last, cond):\n",
    "    I = cond[0].copy()\n",
    "    next = np.empty_like(last)\n",
    "    for id, i in enumerate(I):\n",
    "        if i == 0:\n",
    "            next[id] = last[id] + np.random.randn()/spike_ratio\n",
    "        else:\n",
    "            next[id] = last[id] + np.random.randn()\n",
    "    return next\n",
    "\n",
    "def logproposal_L(next, last, cond):\n",
    "    I = cond[0].copy()\n",
    "    logprob = 0\n",
    "    for id, i in enumerate(I):\n",
    "        if i == 0:\n",
    "            logprob += np.log(st.norm.pdf(next[id], loc = last[id], scale = 1/spike_ratio))\n",
    "        else:\n",
    "            logprob += np.log(st.norm.pdf(next[id], loc = last[id], scale = 1))  \n",
    "    return logprob\n",
    "\n",
    "\n",
    "logjoint_list = [logjoint_I, logjoint_P, logjoint_L]\n",
    "\n",
    "proposer_list = [proposer_I, proposer_P, proposer_L]\n",
    "\n",
    "logproposal_list = [logproposal_I, logproposal_P, logproposal_L]\n",
    "\n",
    "exact_list = [True, False, False]"
   ]
  },
  {
   "cell_type": "markdown",
   "metadata": {},
   "source": [
    "### Running MCMC"
   ]
  },
  {
   "cell_type": "code",
   "execution_count": null,
   "metadata": {},
   "outputs": [],
   "source": [
    "chain = [ [np.zeros(d).astype(int), np.random.permutation(N), np.random.randn(d)] ]\n",
    "\n",
    "logratios = []\n",
    "\n",
    "iters = 5000\n",
    "\n",
    "for i in range(iters):\n",
    "    logratios.append(block_mh_step(chain, logjoint_list, proposer_list, logproposal_list, exact_list))\n",
    "    if (i % 10 == 0):\n",
    "        print(f' Iterate {i} of {iters}', end = \"\\r\")\n"
   ]
  },
  {
   "cell_type": "markdown",
   "metadata": {},
   "source": [
    "### Post processing"
   ]
  },
  {
   "cell_type": "code",
   "execution_count": null,
   "metadata": {},
   "outputs": [],
   "source": [
    "### post processing\n",
    "\n",
    "burn_in = int(iters/2)\n",
    "\n",
    "chainburn = chain[burn_in:]\n",
    "\n",
    "chain_I, chain_P, chain_L = np.array([iter[0] for iter in chainburn]), np.array([iter[1] for iter in chainburn]), np.array([iter[2] for iter in chainburn])\n",
    "\n",
    "### convert to pandas df\n",
    "I_df, P_df, L_df = pd.DataFrame(chain_I), pd.DataFrame(chain_P), pd.DataFrame(chain_L)\n",
    "\n",
    "P_mode = P_df.mode(axis = 0).values.tolist()[0]\n",
    "L_mean = L_df.mean(axis = 0).values.tolist()\n",
    "\n",
    "A_bayes = A_from_PL(P_mode, L_mean)"
   ]
  },
  {
   "cell_type": "code",
   "execution_count": null,
   "metadata": {},
   "outputs": [],
   "source": [
    "## distribution of P\n",
    "P_df.value_counts()"
   ]
  },
  {
   "cell_type": "code",
   "execution_count": null,
   "metadata": {},
   "outputs": [],
   "source": [
    "P_mode"
   ]
  },
  {
   "cell_type": "code",
   "execution_count": null,
   "metadata": {},
   "outputs": [],
   "source": [
    "## acceptance rate\n",
    "np.exp(np.array(logratios)).mean(axis = 0)"
   ]
  },
  {
   "cell_type": "markdown",
   "metadata": {},
   "source": [
    "### Drawing Graphs\n"
   ]
  },
  {
   "cell_type": "code",
   "execution_count": null,
   "metadata": {},
   "outputs": [],
   "source": [
    "model = lingam.DirectLiNGAM()\n",
    "model.fit(X)\n",
    "graph_lingam = make_dot(model.adjacency_matrix_, lower_limit = 0.1)\n",
    "graph_lingam.attr(rankdir='LR')\n",
    "graph_lingam"
   ]
  },
  {
   "cell_type": "code",
   "execution_count": null,
   "metadata": {},
   "outputs": [],
   "source": [
    "true_A = A_from_PL(P, L)\n",
    "graph_true = make_dot(true_A, lower_limit = 0.1)\n",
    "graph_true.attr(rankdir='LR')\n",
    "graph_true"
   ]
  },
  {
   "cell_type": "code",
   "execution_count": null,
   "metadata": {},
   "outputs": [],
   "source": [
    "graph_post = make_dot(A_bayes, lower_limit = 0.1)\n",
    "graph_post.attr(rankdir = 'LR')\n",
    "graph_post"
   ]
  },
  {
   "cell_type": "code",
   "execution_count": null,
   "metadata": {},
   "outputs": [],
   "source": [
    "    "
   ]
  },
  {
   "cell_type": "code",
   "execution_count": null,
   "metadata": {},
   "outputs": [],
   "source": []
  }
 ],
 "metadata": {
  "interpreter": {
   "hash": "5d56b76733d32946b200d438f4a4af19ef4d2ab4998b13633bfeabb8454483e4"
  },
  "kernelspec": {
   "display_name": "Python 3.9.5 ('base')",
   "language": "python",
   "name": "python3"
  },
  "language_info": {
   "codemirror_mode": {
    "name": "ipython",
    "version": 3
   },
   "file_extension": ".py",
   "mimetype": "text/x-python",
   "name": "python",
   "nbconvert_exporter": "python",
   "pygments_lexer": "ipython3",
   "version": "3.9.5"
  },
  "orig_nbformat": 4
 },
 "nbformat": 4,
 "nbformat_minor": 2
}
